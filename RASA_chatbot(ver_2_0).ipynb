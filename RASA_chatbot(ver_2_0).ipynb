{
  "nbformat": 4,
  "nbformat_minor": 0,
  "metadata": {
    "colab": {
      "name": " RASA_chatbot(ver-1.0).ipynb",
      "provenance": [],
      "collapsed_sections": []
    },
    "kernelspec": {
      "name": "python3",
      "display_name": "Python 3"
    },
    "language_info": {
      "name": "python"
    }
  },
  "cells": [
    {
      "cell_type": "markdown",
      "metadata": {
        "id": "dFy50zX0kY7m"
      },
      "source": [
        "Group no.18\n",
        "\n",
        "1.Rushikesh Shaharao //2. Yash Solanke //3. Dikesh Kurve // 4. Saurabh Barse"
      ]
    },
    {
      "cell_type": "markdown",
      "metadata": {
        "id": "DLka21knkTdd"
      },
      "source": [
        "Basic Conversational chatbot by using RASA"
      ]
    },
    {
      "cell_type": "code",
      "metadata": {
        "id": "kZG8s8_SgqK3"
      },
      "source": [
        "!pip install rasa==1.10.3"
      ],
      "execution_count": null,
      "outputs": []
    },
    {
      "cell_type": "code",
      "metadata": {
        "id": "oA7CU6Rehr2f"
      },
      "source": [
        "!python -m spacy download en"
      ],
      "execution_count": null,
      "outputs": []
    },
    {
      "cell_type": "code",
      "metadata": {
        "id": "Orcmxvh_hzbe",
        "colab": {
          "base_uri": "https://localhost:8080/"
        },
        "outputId": "928a863f-54be-49d5-9fd0-af48ed5c23c7"
      },
      "source": [
        "pip install nest_asyncio==1.3.3"
      ],
      "execution_count": null,
      "outputs": [
        {
          "output_type": "stream",
          "name": "stdout",
          "text": [
            "Requirement already satisfied: nest_asyncio==1.3.3 in /usr/local/lib/python3.7/dist-packages (1.3.3)\n"
          ]
        }
      ]
    },
    {
      "cell_type": "code",
      "metadata": {
        "colab": {
          "base_uri": "https://localhost:8080/"
        },
        "id": "IaPoGpyOiENd",
        "outputId": "18df3d08-02c4-4ef0-b712-6e2e6daee3bb"
      },
      "source": [
        "import os\n",
        "import rasa\n",
        "import nest_asyncio\n",
        "\n",
        "nest_asyncio.apply()\n",
        "print(\"Event loop ready.\")"
      ],
      "execution_count": null,
      "outputs": [
        {
          "output_type": "stream",
          "name": "stdout",
          "text": [
            "Event loop ready.\n"
          ]
        }
      ]
    },
    {
      "cell_type": "code",
      "metadata": {
        "id": "tt32XC2YiYJA"
      },
      "source": [
        "from rasa.cli.scaffold import create_initial_project"
      ],
      "execution_count": null,
      "outputs": []
    },
    {
      "cell_type": "code",
      "metadata": {
        "id": "-biOxeEDif7j"
      },
      "source": [
        "project = \"test-project\"\n",
        "create_initial_project(project)"
      ],
      "execution_count": null,
      "outputs": []
    },
    {
      "cell_type": "code",
      "metadata": {
        "colab": {
          "base_uri": "https://localhost:8080/"
        },
        "id": "iMpVmvrnijTO",
        "outputId": "84ab89f0-7ea6-4097-ed84-746b435e1fab"
      },
      "source": [
        "# move into project directory and show files\n",
        "os.chdir(project)\n",
        "print(os.listdir(\".\"))"
      ],
      "execution_count": null,
      "outputs": [
        {
          "output_type": "stream",
          "name": "stdout",
          "text": [
            "['tests', 'data', 'domain.yml', 'config.yml', 'endpoints.yml', 'actions.py', 'credentials.yml', '__pycache__', '__init__.py']\n"
          ]
        }
      ]
    },
    {
      "cell_type": "code",
      "metadata": {
        "colab": {
          "base_uri": "https://localhost:8080/"
        },
        "id": "NXgAFirlipEj",
        "outputId": "747bee28-8ea8-4d2f-d2fd-dbc94ed08fa1"
      },
      "source": [
        "config = \"config.yml\"\n",
        "training_files = \"data/\"\n",
        "domain = \"domain.yml\"\n",
        "output = \"models/\"\n",
        "print(config, training_files, domain, output)"
      ],
      "execution_count": null,
      "outputs": [
        {
          "output_type": "stream",
          "name": "stdout",
          "text": [
            "config.yml data/ domain.yml models/\n"
          ]
        }
      ]
    },
    {
      "cell_type": "code",
      "metadata": {
        "id": "A_PGp3ztiyq3"
      },
      "source": [
        "model_path = rasa.train(domain, config, [training_files], output)\n",
        "print(model_path)"
      ],
      "execution_count": null,
      "outputs": []
    },
    {
      "cell_type": "code",
      "metadata": {
        "colab": {
          "base_uri": "https://localhost:8080/"
        },
        "id": "spK8T6CTjfPc",
        "outputId": "0af72265-ef62-4478-dd12-25055acb86fc"
      },
      "source": [
        "## to chat with bot in jupyter\n",
        "\n",
        "from rasa.jupyter import chat\n",
        "\n",
        "endpoints = 'endpoints.yml'\n",
        "\n",
        "chat(model_path, endpoints)\n",
        "\n",
        "## to end use /stop"
      ],
      "execution_count": null,
      "outputs": [
        {
          "name": "stdout",
          "output_type": "stream",
          "text": [
            "Your bot is ready to talk! Type your messages here or send '/stop'.\n",
            "hi\n",
            "\u001b[92mHey! How are you?\u001b[0m\n",
            "fine\n",
            "\u001b[92mBye\u001b[0m\n",
            "hi\n",
            "\u001b[92mHey! How are you?\u001b[0m\n",
            "good\n",
            "\u001b[92mGreat, carry on!\u001b[0m\n",
            "cheer me\n",
            "\u001b[92mGreat, carry on!\u001b[0m\n",
            "cheer up\n",
            "\u001b[92mGreat, carry on!\u001b[0m\n",
            "who are you\n",
            "\u001b[92mI am a bot, powered by Rasa.\u001b[0m\n",
            "ok\n",
            "\u001b[92mBye\u001b[0m\n",
            "bye\n",
            "\u001b[92mBye\u001b[0m\n",
            "/stop\n"
          ]
        }
      ]
    },
    {
      "cell_type": "code",
      "metadata": {
        "id": "TgQTB_v6d3Xp",
        "colab": {
          "base_uri": "https://localhost:8080/"
        },
        "outputId": "52258195-cd08-4f27-d858-c33f35774e73"
      },
      "source": [
        "%%writefile data/nlu.md\n",
        "\n",
        "## intent:timetable\n",
        "- show me timetable\n",
        "- timetable\n",
        "- time table \n",
        "\n",
        "## intent:tasks\n",
        "- what is the task today?\n",
        "- what are the tasks today?\n",
        "- tasks\n",
        "- assignments\n",
        "- homework\n",
        "- what is the homework today?\n",
        "\n",
        "## intent:holiday\n",
        "- when we are having holiday?\n",
        "- when we have next holiday?\n",
        "- next holiday\n",
        "- holiday\n",
        "\n",
        "## intent:exam\n",
        "- what is exam schedule?\n",
        "- exam schedule\n",
        "- exm timetable\n",
        "- what is exam timetable \n",
        "\n",
        "## intent:imp_question\n",
        "- what are the important questions?\n",
        "- give me some questions\n",
        "- previous year questions\n",
        "- most important questions\n",
        "- important questions \n",
        "\n",
        "## intent:accounts\n",
        "- where can i pay fee?\n",
        "- fee\n",
        "- account section \n",
        "- what is exam fee?\n",
        "- what is the fee for this year?\n",
        "\n",
        "## intent:canteen \n",
        "- canteen \n",
        "- where is canteen?\n",
        "- canteen location\n",
        "- i want to eat something\n",
        "- i want to eat samosa\n",
        "- i want breakfast\n",
        "- i want to drink coffee \n",
        "- i want to drink tea\n",
        "\n",
        "## intent:computer_lab\n",
        "- where is computer lab\n",
        "- computer lab\n",
        "- computer lab location\n",
        "\n",
        "\n",
        "## intent:science_lab\n",
        "- where is science lab\n",
        "- science lab\n",
        "- science lab location\n",
        "- where we do science experiments\n",
        "- chemistry lab\n",
        "\n",
        "## intent:quotes\n",
        "- quote\n",
        "- quotes\n",
        "- motivational quotes\n",
        "- suggest me something\n",
        "- show me quotes\n",
        "- motivate me \n",
        "\n",
        "## intent:greet\n",
        "- hey\n",
        "- hello\n",
        "- hi\n",
        "- good morning\n",
        "- good evening\n",
        "- hey there\n",
        "\n",
        "## intent:goodbye\n",
        "- bye\n",
        "- goodbye\n",
        "- see you around\n",
        "- see you later\n",
        "\n",
        "## intent:affirm\n",
        "- yes\n",
        "- indeed\n",
        "- of course\n",
        "- that sounds good\n",
        "- correct\n",
        "\n",
        "## intent:deny\n",
        "- no\n",
        "- never\n",
        "- I do not think so\n",
        "- do not like that\n",
        "- no way\n",
        "- not really\n",
        "\n",
        "## intent:mood_great\n",
        "- perfect\n",
        "- very good\n",
        "- great\n",
        "- amazing\n",
        "- wonderful\n",
        "- I am feeling very good\n",
        "- I am great\n",
        "- I am good\n",
        "\n",
        "## intent:mood_unhappy\n",
        "- sad\n",
        "- very sad\n",
        "- unhappy\n",
        "- bad\n",
        "- very bad\n",
        "- awful\n",
        "- terrible\n",
        "- not very good\n",
        "- extremely sad\n",
        "- so sad\n",
        "\n",
        "## intent:bot_challenge\n",
        "- are you a bot?\n",
        "- are you a human?\n",
        "- am I talking to a bot?\n",
        "- am I talking to a human?\n"
      ],
      "execution_count": null,
      "outputs": [
        {
          "output_type": "stream",
          "name": "stdout",
          "text": [
            "Overwriting data/nlu.md\n"
          ]
        }
      ]
    },
    {
      "cell_type": "code",
      "metadata": {
        "id": "Xme4hXI1mR1l",
        "colab": {
          "base_uri": "https://localhost:8080/"
        },
        "outputId": "7b747162-8c69-4f20-dfb0-55a58dda470f"
      },
      "source": [
        "%%writefile domain.yml\n",
        "\n",
        "\n",
        "intents:\n",
        "  - greet\n",
        "  - goodbye\n",
        "  - affirm\n",
        "  - deny\n",
        "  - mood_great\n",
        "  - mood_unhappy\n",
        "  - bot_challenge\n",
        "  - timetable\n",
        "  - tasks\n",
        "  - holiday\n",
        "  - exam\n",
        "  - imp_question\n",
        "  - accounts\n",
        "  - canteen\n",
        "  - computer_lab\n",
        "  - science_lab\n",
        "  - quotes\n",
        "\n",
        "\n",
        "responses:\n",
        "  utter_timetable:\n",
        "  - text: \"here is your timetable for AI Department -\" \n",
        "    image: \"https://lh3.googleusercontent.com/EFSjD3azjgeB-t9eVvZzfsjWIKxJuo1nGXpoMuVebniGSkd5ntS0EodUWSh6DNziQFY5AhRJQioyra9lOr5fG0URkdKWKGIponRQxl9DzWN8Zvr3SPayboVvDnl_K0Z38g=w1277\"\n",
        "  \n",
        "  utter_tasks\n",
        "  - text: \"Here are the tasks for you - \"\n",
        "    image: \"https://1.bp.blogspot.com/-DXRHshE-3zY/X3ksBXTxMtI/AAAAAAAAB7U/dus3jKEIS9c0ZwX5sJ89xXAhKxpCnAQXgCNcBGAsYHQ/s1728/IMG_20201004_072134.jpg\"\n",
        "  \n",
        "  utter_holiday:\n",
        "  - text: \"Here is the list for holiday year 2021 - \"\n",
        "    image: \"https://www.indembassybern.gov.in/docs/1609392826_List%20of%20Holidays_2021_page-0001.jpg\"\n",
        "\n",
        "  utter_exam:\n",
        "  - text: \"Here is the exam schedule --- ALL THE BEST !\"\n",
        "    image: \"https://porterpress.org/wp-content/uploads/2018/05/semester2finalexam-900x556.jpg\"\n",
        "\n",
        "  utter_imp_question:\n",
        "  - text: \"here are the some quetions which you can practice - \"\n",
        "    image: \"https://farm9.staticflickr.com/8632/15173140144_ecebb4230d_o.jpg\"\n",
        "\n",
        "  utter_accounts:\n",
        "  - text: \"I think the account section can help you with this. \"\n",
        "  - text: \"Contact Number - 9560213652\"\n",
        "  - text: \"@ You can visit account section on first floor - \"\n",
        "\n",
        "  utter_canteen:\n",
        "  - text: \"You can visit to canteen on 2nd Floor - \"\n",
        "          \"This is the menu for you - \"\n",
        "    image: \"https://d4t7t8y8xqo0t.cloudfront.net/resized/1080X/restaurant%2F502706%2Fmenu%2F502706_1.jpg\"\n",
        "  \n",
        "  utter_computer_lab:\n",
        "  - text: \"Computer Lab is on 3rd floor, Room No. 34 C\"\n",
        "  \n",
        "\n",
        "  utter_science_lab:\n",
        "  - text: \"Computer Lab is on 3rd floor, Room No. 99 C\"\n",
        "\n",
        "  utter_quotes:\n",
        "  - text: \"This will surely help you - :) - \"\n",
        "  - image:\"https://s3.amazonaws.com/media.briantracy.com/blog/wp-content/uploads/2021/09/02135927/inspirational-quote1-1024x576.png\"\n",
        "\n",
        "\n",
        "  utter_greet:\n",
        "  - text: \"Hey Student! How are you?\"\n",
        "\n",
        "  utter_cheer_up:\n",
        "  - text: \"Here is something to cheer you up:\"\n",
        "    image: \"https://i.imgur.com/nGF1K8f.jpg\"\n",
        "\n",
        "  utter_did_that_help:\n",
        "  - text: \"Did that help you?\"\n",
        "\n",
        "  utter_happy:\n",
        "  - text: \"Great, carry on!\"\n",
        "\n",
        "  utter_goodbye:\n",
        "  - text: \"Bye\"\n",
        "\n",
        "  utter_iamabot:\n",
        "  - text: \"I am a bot, powered by Rasa.\"\n",
        "\n",
        "session_config:\n",
        "  session_expiration_time: 60\n",
        "  carry_over_slots_to_new_session: true\n"
      ],
      "execution_count": null,
      "outputs": [
        {
          "output_type": "stream",
          "name": "stdout",
          "text": [
            "Overwriting domain.yml\n"
          ]
        }
      ]
    },
    {
      "cell_type": "code",
      "metadata": {
        "colab": {
          "base_uri": "https://localhost:8080/"
        },
        "id": "EZJ8bOrACBt5",
        "outputId": "a9b1ba9a-968d-4495-a336-de4a2800b89e"
      },
      "source": [
        "%%writefile data/stories.md\n",
        "\n",
        "## timetable\n",
        "* greet\n",
        "  - utter_greet\n",
        "* timetable\n",
        "  - utter_timetable:\n",
        "* imp_question\n",
        "  - utter imp_question\n",
        "\n",
        "## tasks\n",
        "* greet\n",
        "  - utter_greet\n",
        "* tasks\n",
        "  - utter_tasks:\n",
        "\n",
        "## canteen\n",
        "* greet\n",
        "  - utter_greet\n",
        "* canteen \n",
        "  - utter_canteen\n",
        "\n",
        "\n",
        "## happy path\n",
        "* greet\n",
        "  - utter_greet\n",
        "* mood_great\n",
        "  - utter_happy\n",
        "\n",
        "## sad path 1\n",
        "* greet\n",
        "  - utter_greet\n",
        "* mood_unhappy\n",
        "  - utter_cheer_up\n",
        "  - utter_did_that_help\n",
        "* affirm\n",
        "  - utter_happy\n",
        "\n",
        "## sad path 2\n",
        "* greet\n",
        "  - utter_greet\n",
        "* mood_unhappy\n",
        "  - utter_cheer_up\n",
        "  - utter_did_that_help\n",
        "* deny\n",
        "  - utter_goodbye\n",
        "\n",
        "## say goodbye\n",
        "* goodbye\n",
        "  - utter_goodbye\n",
        "\n",
        "## bot challenge\n",
        "* bot_challenge\n",
        "  - utter_iamabot\n"
      ],
      "execution_count": null,
      "outputs": [
        {
          "output_type": "stream",
          "name": "stdout",
          "text": [
            "Overwriting data/stories.md\n"
          ]
        }
      ]
    },
    {
      "cell_type": "code",
      "metadata": {
        "id": "nsN8A8jQFYJo"
      },
      "source": [
        "model_path =  rasa.train(domain, config, [training_files], output)\n",
        "print(model_path)"
      ],
      "execution_count": null,
      "outputs": []
    },
    {
      "cell_type": "code",
      "metadata": {
        "colab": {
          "base_uri": "https://localhost:8080/",
          "height": 437
        },
        "id": "zvKfmXgqFqVX",
        "outputId": "58bb7b39-0acf-46d7-8cf8-ab6967cf42f6"
      },
      "source": [
        "endpoints = \"endpoints.yml\"\n",
        "chat(model_path, endpoints)"
      ],
      "execution_count": null,
      "outputs": [
        {
          "name": "stdout",
          "output_type": "stream",
          "text": [
            "Your bot is ready to talk! Type your messages here or send '/stop'.\n",
            "helo\n"
          ]
        },
        {
          "output_type": "stream",
          "name": "stderr",
          "text": [
            "\u001b[93m/usr/local/lib/python3.7/dist-packages/rasa/utils/common.py:363: UserWarning: Interpreter parsed an intent 'greet' which is not defined in the domain. Please make sure all intents are listed in the domain.\n",
            "  More info at https://rasa.com/docs/rasa/core/domains/\n",
            "\u001b[0m\u001b[93m/usr/local/lib/python3.7/dist-packages/rasa/utils/common.py:363: UserWarning: No policy ensemble or domain set. Skipping action prediction and execution.\n",
            "  More info at https://rasa.com/docs/rasa/core/policies/\n",
            "\u001b[0m"
          ]
        },
        {
          "output_type": "error",
          "ename": "TypeError",
          "evalue": "ignored",
          "traceback": [
            "\u001b[0;31m---------------------------------------------------------------------------\u001b[0m",
            "\u001b[0;31mTypeError\u001b[0m                                 Traceback (most recent call last)",
            "\u001b[0;32m<ipython-input-38-d60dc52785b7>\u001b[0m in \u001b[0;36m<module>\u001b[0;34m()\u001b[0m\n\u001b[1;32m      1\u001b[0m \u001b[0mendpoints\u001b[0m \u001b[0;34m=\u001b[0m \u001b[0;34m\"endpoints.yml\"\u001b[0m\u001b[0;34m\u001b[0m\u001b[0;34m\u001b[0m\u001b[0m\n\u001b[0;32m----> 2\u001b[0;31m \u001b[0mchat\u001b[0m\u001b[0;34m(\u001b[0m\u001b[0mmodel_path\u001b[0m\u001b[0;34m,\u001b[0m \u001b[0mendpoints\u001b[0m\u001b[0;34m)\u001b[0m\u001b[0;34m\u001b[0m\u001b[0;34m\u001b[0m\u001b[0m\n\u001b[0m",
            "\u001b[0;32m/usr/local/lib/python3.7/dist-packages/rasa/jupyter.py\u001b[0m in \u001b[0;36mchat\u001b[0;34m(model_path, agent, interpreter)\u001b[0m\n\u001b[1;32m     55\u001b[0m \u001b[0;34m\u001b[0m\u001b[0m\n\u001b[1;32m     56\u001b[0m         \u001b[0mresponses\u001b[0m \u001b[0;34m=\u001b[0m \u001b[0mloop\u001b[0m\u001b[0;34m.\u001b[0m\u001b[0mrun_until_complete\u001b[0m\u001b[0;34m(\u001b[0m\u001b[0magent\u001b[0m\u001b[0;34m.\u001b[0m\u001b[0mhandle_text\u001b[0m\u001b[0;34m(\u001b[0m\u001b[0mmessage\u001b[0m\u001b[0;34m)\u001b[0m\u001b[0;34m)\u001b[0m\u001b[0;34m\u001b[0m\u001b[0;34m\u001b[0m\u001b[0m\n\u001b[0;32m---> 57\u001b[0;31m         \u001b[0;32mfor\u001b[0m \u001b[0mresponse\u001b[0m \u001b[0;32min\u001b[0m \u001b[0mresponses\u001b[0m\u001b[0;34m:\u001b[0m\u001b[0;34m\u001b[0m\u001b[0;34m\u001b[0m\u001b[0m\n\u001b[0m\u001b[1;32m     58\u001b[0m             \u001b[0m_display_bot_response\u001b[0m\u001b[0;34m(\u001b[0m\u001b[0mresponse\u001b[0m\u001b[0;34m)\u001b[0m\u001b[0;34m\u001b[0m\u001b[0;34m\u001b[0m\u001b[0m\n\u001b[1;32m     59\u001b[0m \u001b[0;34m\u001b[0m\u001b[0m\n",
            "\u001b[0;31mTypeError\u001b[0m: 'NoneType' object is not iterable"
          ]
        }
      ]
    },
    {
      "cell_type": "code",
      "metadata": {
        "colab": {
          "base_uri": "https://localhost:8080/",
          "height": 419
        },
        "id": "76nbYqIRGOO_",
        "outputId": "adf96ebe-c753-49fd-bb20-6bc98e8bc2bb"
      },
      "source": [
        "chat(model_path, endpoints)"
      ],
      "execution_count": null,
      "outputs": [
        {
          "name": "stdout",
          "output_type": "stream",
          "text": [
            "Your bot is ready to talk! Type your messages here or send '/stop'.\n",
            "hello\n"
          ]
        },
        {
          "output_type": "stream",
          "name": "stderr",
          "text": [
            "\u001b[93m/usr/local/lib/python3.7/dist-packages/rasa/utils/common.py:363: UserWarning: Interpreter parsed an intent 'greet' which is not defined in the domain. Please make sure all intents are listed in the domain.\n",
            "  More info at https://rasa.com/docs/rasa/core/domains/\n",
            "\u001b[0m\u001b[93m/usr/local/lib/python3.7/dist-packages/rasa/utils/common.py:363: UserWarning: No policy ensemble or domain set. Skipping action prediction and execution.\n",
            "  More info at https://rasa.com/docs/rasa/core/policies/\n",
            "\u001b[0m"
          ]
        },
        {
          "output_type": "error",
          "ename": "TypeError",
          "evalue": "ignored",
          "traceback": [
            "\u001b[0;31m---------------------------------------------------------------------------\u001b[0m",
            "\u001b[0;31mTypeError\u001b[0m                                 Traceback (most recent call last)",
            "\u001b[0;32m<ipython-input-39-2f3536b39565>\u001b[0m in \u001b[0;36m<module>\u001b[0;34m()\u001b[0m\n\u001b[0;32m----> 1\u001b[0;31m \u001b[0mchat\u001b[0m\u001b[0;34m(\u001b[0m\u001b[0mmodel_path\u001b[0m\u001b[0;34m,\u001b[0m \u001b[0mendpoints\u001b[0m\u001b[0;34m)\u001b[0m\u001b[0;34m\u001b[0m\u001b[0;34m\u001b[0m\u001b[0m\n\u001b[0m",
            "\u001b[0;32m/usr/local/lib/python3.7/dist-packages/rasa/jupyter.py\u001b[0m in \u001b[0;36mchat\u001b[0;34m(model_path, agent, interpreter)\u001b[0m\n\u001b[1;32m     55\u001b[0m \u001b[0;34m\u001b[0m\u001b[0m\n\u001b[1;32m     56\u001b[0m         \u001b[0mresponses\u001b[0m \u001b[0;34m=\u001b[0m \u001b[0mloop\u001b[0m\u001b[0;34m.\u001b[0m\u001b[0mrun_until_complete\u001b[0m\u001b[0;34m(\u001b[0m\u001b[0magent\u001b[0m\u001b[0;34m.\u001b[0m\u001b[0mhandle_text\u001b[0m\u001b[0;34m(\u001b[0m\u001b[0mmessage\u001b[0m\u001b[0;34m)\u001b[0m\u001b[0;34m)\u001b[0m\u001b[0;34m\u001b[0m\u001b[0;34m\u001b[0m\u001b[0m\n\u001b[0;32m---> 57\u001b[0;31m         \u001b[0;32mfor\u001b[0m \u001b[0mresponse\u001b[0m \u001b[0;32min\u001b[0m \u001b[0mresponses\u001b[0m\u001b[0;34m:\u001b[0m\u001b[0;34m\u001b[0m\u001b[0;34m\u001b[0m\u001b[0m\n\u001b[0m\u001b[1;32m     58\u001b[0m             \u001b[0m_display_bot_response\u001b[0m\u001b[0;34m(\u001b[0m\u001b[0mresponse\u001b[0m\u001b[0;34m)\u001b[0m\u001b[0;34m\u001b[0m\u001b[0;34m\u001b[0m\u001b[0m\n\u001b[1;32m     59\u001b[0m \u001b[0;34m\u001b[0m\u001b[0m\n",
            "\u001b[0;31mTypeError\u001b[0m: 'NoneType' object is not iterable"
          ]
        }
      ]
    }
  ]
}